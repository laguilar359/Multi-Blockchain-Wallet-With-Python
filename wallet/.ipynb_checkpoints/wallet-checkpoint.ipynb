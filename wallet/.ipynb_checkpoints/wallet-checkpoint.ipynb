{
 "cells": [
  {
   "cell_type": "code",
   "execution_count": 1,
   "metadata": {},
   "outputs": [],
   "source": [
    "# Imports (Set to \"ethereum\" environment for 'bit' and 'web3' imports)\n",
    "\n",
    "import subprocess\n",
    "import json\n",
    "import os\n",
    "\n",
    "from constants import BTC, ETH, BTCTEST\n",
    "from pprint import pprint\n",
    "\n",
    "from bit import PrivateKeyTestnet\n",
    "from bit.network import NetworkAPI\n",
    "\n",
    "from web3 import Web3, middleware, Account\n",
    "from web3.gas_strategies.time_based import medium_gas_price_strategy\n",
    "from web3.middleware import geth_poa_middleware\n"
   ]
  },
  {
   "cell_type": "code",
   "execution_count": 2,
   "metadata": {},
   "outputs": [],
   "source": [
    "# Connect Web3\n",
    "w3 = Web3(Web3.HTTPProvider(os.getenv('WEB3_PROVIDER', 'http://localhost:8545')))\n",
    "w3 = Web3(Web3.HTTPProvider(\"http://127.0.0.1:8545\"))"
   ]
  },
  {
   "cell_type": "code",
   "execution_count": 5,
   "metadata": {},
   "outputs": [],
   "source": [
    "#w3.eth.blockNumber "
   ]
  },
  {
   "cell_type": "code",
   "execution_count": 104,
   "metadata": {},
   "outputs": [],
   "source": [
    "mnemonic = os.getenv('MNEMONIC', 'three coach coin blade parade spray keen brick athlete clerk stadium blur art south claw')"
   ]
  },
  {
   "cell_type": "code",
   "execution_count": null,
   "metadata": {},
   "outputs": [],
   "source": []
  },
  {
   "cell_type": "code",
   "execution_count": 105,
   "metadata": {},
   "outputs": [],
   "source": [
    "#command = './derive -g --mnemonic=\"mnemonic\" --format=jsonpretty --coin='' --numderive=3'"
   ]
  },
  {
   "cell_type": "code",
   "execution_count": 106,
   "metadata": {},
   "outputs": [],
   "source": [
    "eth = 'eth'\n",
    "btc_test = 'btc-test'"
   ]
  },
  {
   "cell_type": "code",
   "execution_count": 107,
   "metadata": {},
   "outputs": [],
   "source": [
    "#coins = []"
   ]
  },
  {
   "cell_type": "code",
   "execution_count": null,
   "metadata": {},
   "outputs": [],
   "source": []
  },
  {
   "cell_type": "code",
   "execution_count": 108,
   "metadata": {},
   "outputs": [],
   "source": [
    "# Use the 'subprocess' library to call the './derive' script.\n",
    "# Set the 'wait()' function to ensure it properly waits for the process.\n",
    "# Define derive_wallets() function that derives coins passing 'mnemonic', 'coin', and 'numderive' flags\n",
    "# Set format to JSON and parse output using json.loads()\n",
    "\n",
    "def derive_wallets(coin=BTC, mnemonic=mnemonic, depth=3): \n",
    "    coins = []\n",
    "    command = './derive -g --mnemonic=\"mnemonic\" --format=jsonpretty --numderive=3 --coin='''\n",
    "    p = subprocess.Popen(command, stdout=subprocess.PIPE, shell=True)\n",
    "    (output, err) = p.communicate()\n",
    "    p_status = p.wait()\n",
    "    keys = json.loads(output)\n",
    "    return (keys)\n",
    "    \n",
    "    "
   ]
  },
  {
   "cell_type": "code",
   "execution_count": 109,
   "metadata": {},
   "outputs": [
    {
     "data": {
      "text/plain": [
       "[{'path': \"m/44'/0'/0'/0/0\",\n",
       "  'address': '16oW9TCUycMQ7KH7pnZxUT8KBsqCHAeGMT',\n",
       "  'xprv': 'xprvA48XEgXexBcQKLSyVvf6zZj9jzirsWL8DJje45BeT4H5M7usuRhzDmVJHWkXWhZeniR21U8oveinWKrMnfRWq8byngLZANci1qZnKM2hS1D',\n",
       "  'xpub': 'xpub6H7seC4YnZAhXpXSbxC7MhftJ2ZMGy3yaXfErTbG1Pp4DvF2Sy2EmZon8mCPDS4BMtj83hufHjDQAHBHRmuDwTtsMX8PDU9CpSo44V4ozfe',\n",
       "  'privkey': 'L5fYwHf7PPGXpNK4o8ReP8eNurb4FB8xqpuHWoxKaLd5miue4VAz',\n",
       "  'pubkey': '02aeff4f673c550ef8457c04208d9431e464a4077f33364f705912fc7ffc4b4fc1',\n",
       "  'pubkeyhash': '3fa417c08fa6db61ee37f1561dcec1801b0b01e3',\n",
       "  'index': 0},\n",
       " {'path': \"m/44'/0'/0'/0/1\",\n",
       "  'address': '1Lyms49i5cX7G5rdK5JQaWnVFxGUwncBXX',\n",
       "  'xprv': 'xprvA48XEgXexBcQMxtyKAj4GRkxCc8X5jNL3met79yWiFdbEV473iJyuEh4ywC5wUZDKVZnTsZZMdny7sngqWufDLvFactA4K4itp1fGHVojxk',\n",
       "  'xpub': 'xpub6H7seC4YnZAhaSySRCG4dZhgkdy1VC6BQzaUuYP8GbAa7HPFbFdET31YqC71FzQNiFkXz8oRbpMG8dtExL9WxSHbSSE9nDAmdhmgNKsvEXM',\n",
       "  'privkey': 'KxnpFgEZg47djKjDbdRN8jNqAsjr39jJvyiyzw6uSR4jGVtQYnAx',\n",
       "  'pubkey': '021f522356c0ad9c8cede041fbd09ef58f78efeb2ae9b2ea694edb06b50eee5b06',\n",
       "  'pubkeyhash': 'db27222d3f528390209cfab3e22b6c35af7ad86c',\n",
       "  'index': 1},\n",
       " {'path': \"m/44'/0'/0'/0/2\",\n",
       "  'address': '166CGTppNQT3FENaXuf3XzKr6AJdrAjry1',\n",
       "  'xprv': 'xprvA48XEgXexBcQQFB3oUx1faPoC7yDfy8HQynfz99usQEF3PD62aJbwUW9rW2fC3uonUN4tJqeSbu49p9sX2aEehsC8kD9Su4RhYL5Zcuk3ni',\n",
       "  'xpub': 'xpub6H7seC4YnZAhcjFWuWV22iLXk9oi5Rr8nCiGnXZXRjmDvBYEa7crVGpdhoRNX9AANkv1F7NZ5Jpk62CwuEZWNWct5euSfzxTvNoW6RKhqTb',\n",
       "  'privkey': 'L2qmPuhbspwTSt1TNZCFPeAXB9wH5p1GZd7qYRgtGDGHAwsVfRKN',\n",
       "  'pubkey': '03deb0499042be46fc3faf24073f698a1b33ba6456fa23b0140958e6c7d88cef37',\n",
       "  'pubkeyhash': '37d41d15605a59baeafb241f43e0c9a1b1ee6895',\n",
       "  'index': 2}]"
      ]
     },
     "execution_count": 109,
     "metadata": {},
     "output_type": "execute_result"
    }
   ],
   "source": [
    "# Create 'coins' object to derive wallets with the 'derive_wallets' function\n",
    "\n",
    "coins = derive_wallets(eth)\n",
    "derive_wallets(eth)"
   ]
  },
  {
   "cell_type": "code",
   "execution_count": 110,
   "metadata": {},
   "outputs": [
    {
     "data": {
      "text/plain": [
       "'KxnpFgEZg47djKjDbdRN8jNqAsjr39jJvyiyzw6uSR4jGVtQYnAx'"
      ]
     },
     "execution_count": 110,
     "metadata": {},
     "output_type": "execute_result"
    }
   ],
   "source": [
    "# Select child account private keys from coins object\n",
    "\n",
    "coins[1]['privkey']"
   ]
  },
  {
   "cell_type": "code",
   "execution_count": null,
   "metadata": {},
   "outputs": [],
   "source": [
    "def priv_key_to_account():\n",
    "    coin = "
   ]
  }
 ],
 "metadata": {
  "kernelspec": {
   "display_name": "Python 3",
   "language": "python",
   "name": "python3"
  },
  "language_info": {
   "codemirror_mode": {
    "name": "ipython",
    "version": 3
   },
   "file_extension": ".py",
   "mimetype": "text/x-python",
   "name": "python",
   "nbconvert_exporter": "python",
   "pygments_lexer": "ipython3",
   "version": "3.7.9"
  }
 },
 "nbformat": 4,
 "nbformat_minor": 4
}
